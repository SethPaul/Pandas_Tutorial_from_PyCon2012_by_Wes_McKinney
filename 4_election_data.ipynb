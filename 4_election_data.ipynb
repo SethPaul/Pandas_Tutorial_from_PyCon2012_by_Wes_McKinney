{
 "cells": [
  {
   "cell_type": "code",
   "execution_count": 1,
   "metadata": {
    "collapsed": true
   },
   "outputs": [],
   "source": [
    "import pandas as pd\n",
    "import numpy as np\n",
    "import matplotlib.pyplot as plt\n",
    "\n",
    "%matplotlib inline\n",
    "\n",
    "plt.style.use('ggplot')\n",
    "pd.set_option('display.width', 5000)\n",
    "pd.set_option('max_rows', 20)\n",
    "\n",
    "plt.rcParams['figure.figsize'] = (15, 5)"
   ]
  },
  {
   "cell_type": "code",
   "execution_count": 2,
   "metadata": {
    "collapsed": true
   },
   "outputs": [],
   "source": [
    "months = {'JAN' : 1, 'FEB' : 2, 'MAR' : 3, 'APR' : 4, 'MAY' : 5, 'JUN' : 6,\n",
    "          'JUL' : 7, 'AUG' : 8, 'SEP' : 9, 'OCT': 10, 'NOV': 11, 'DEC' : 12}\n",
    "of_interest = ['Obama, Barack', 'Romney, Mitt', 'Santorum, Rick', \n",
    "               'Paul, Ron', 'Gingrich, Newt']\n",
    "parties = {\n",
    "  'Bachmann, Michelle': 'Republican',\n",
    "  'Romney, Mitt': 'Republican',\n",
    "  'Obama, Barack': 'Democrat',\n",
    "  \"Roemer, Charles E. 'Buddy' III\": 'Reform',\n",
    "  'Pawlenty, Timothy': 'Republican',\n",
    "  'Johnson, Gary Earl': 'Libertarian',\n",
    "  'Paul, Ron': 'Republican',\n",
    "  'Santorum, Rick': 'Republican',\n",
    "  'Cain, Herman': 'Republican',\n",
    "  'Gingrich, Newt': 'Republican',\n",
    "  'McCotter, Thaddeus G': 'Republican',\n",
    "  'Huntsman, Jon': 'Republican',\n",
    "  'Perry, Rick': 'Republican'           \n",
    " }"
   ]
  },
  {
   "cell_type": "code",
   "execution_count": 6,
   "metadata": {
    "collapsed": false,
    "scrolled": true
   },
   "outputs": [
    {
     "name": "stderr",
     "output_type": "stream",
     "text": [
      "/home/seth/anaconda2/lib/python2.7/site-packages/IPython/core/interactiveshell.py:2723: DtypeWarning: Columns (7) have mixed types. Specify dtype option on import or set low_memory=False.\n",
      "  interactivity=interactivity, compiler=compiler, result=result)\n"
     ]
    }
   ],
   "source": [
    "fec = pd.read_csv('P00000001-ALL.txt')"
   ]
  },
  {
   "cell_type": "code",
   "execution_count": 7,
   "metadata": {
    "collapsed": false
   },
   "outputs": [
    {
     "data": {
      "text/html": [
       "<div>\n",
       "<table border=\"1\" class=\"dataframe\">\n",
       "  <thead>\n",
       "    <tr style=\"text-align: right;\">\n",
       "      <th></th>\n",
       "      <th>Unnamed: 0</th>\n",
       "      <th>cmte_id</th>\n",
       "      <th>cand_id</th>\n",
       "      <th>cand_nm</th>\n",
       "      <th>contbr_nm</th>\n",
       "      <th>contbr_city</th>\n",
       "      <th>contbr_st</th>\n",
       "      <th>contbr_zip</th>\n",
       "      <th>contbr_employer</th>\n",
       "      <th>contbr_occupation</th>\n",
       "      <th>contb_receipt_amt</th>\n",
       "      <th>contb_receipt_dt</th>\n",
       "      <th>receipt_desc</th>\n",
       "      <th>memo_cd</th>\n",
       "      <th>memo_text</th>\n",
       "      <th>form_tp</th>\n",
       "      <th>file_num</th>\n",
       "    </tr>\n",
       "  </thead>\n",
       "  <tbody>\n",
       "    <tr>\n",
       "      <th>0</th>\n",
       "      <td>0</td>\n",
       "      <td>C00410118</td>\n",
       "      <td>P20002978</td>\n",
       "      <td>Bachmann, Michelle</td>\n",
       "      <td>HARVEY, WILLIAM</td>\n",
       "      <td>MOBILE</td>\n",
       "      <td>AL</td>\n",
       "      <td>3.6601e+08</td>\n",
       "      <td>RETIRED</td>\n",
       "      <td>RETIRED</td>\n",
       "      <td>250.0</td>\n",
       "      <td>20-JUN-11</td>\n",
       "      <td>NaN</td>\n",
       "      <td>NaN</td>\n",
       "      <td>NaN</td>\n",
       "      <td>SA17A</td>\n",
       "      <td>736166</td>\n",
       "    </tr>\n",
       "    <tr>\n",
       "      <th>1</th>\n",
       "      <td>1</td>\n",
       "      <td>C00410118</td>\n",
       "      <td>P20002978</td>\n",
       "      <td>Bachmann, Michelle</td>\n",
       "      <td>HARVEY, WILLIAM</td>\n",
       "      <td>MOBILE</td>\n",
       "      <td>AL</td>\n",
       "      <td>3.6601e+08</td>\n",
       "      <td>RETIRED</td>\n",
       "      <td>RETIRED</td>\n",
       "      <td>50.0</td>\n",
       "      <td>23-JUN-11</td>\n",
       "      <td>NaN</td>\n",
       "      <td>NaN</td>\n",
       "      <td>NaN</td>\n",
       "      <td>SA17A</td>\n",
       "      <td>736166</td>\n",
       "    </tr>\n",
       "    <tr>\n",
       "      <th>2</th>\n",
       "      <td>2</td>\n",
       "      <td>C00410118</td>\n",
       "      <td>P20002978</td>\n",
       "      <td>Bachmann, Michelle</td>\n",
       "      <td>SMITH, LANIER</td>\n",
       "      <td>LANETT</td>\n",
       "      <td>AL</td>\n",
       "      <td>3.68633e+08</td>\n",
       "      <td>INFORMATION REQUESTED</td>\n",
       "      <td>INFORMATION REQUESTED</td>\n",
       "      <td>250.0</td>\n",
       "      <td>05-JUL-11</td>\n",
       "      <td>NaN</td>\n",
       "      <td>NaN</td>\n",
       "      <td>NaN</td>\n",
       "      <td>SA17A</td>\n",
       "      <td>749073</td>\n",
       "    </tr>\n",
       "    <tr>\n",
       "      <th>3</th>\n",
       "      <td>3</td>\n",
       "      <td>C00410118</td>\n",
       "      <td>P20002978</td>\n",
       "      <td>Bachmann, Michelle</td>\n",
       "      <td>BLEVINS, DARONDA</td>\n",
       "      <td>PIGGOTT</td>\n",
       "      <td>AR</td>\n",
       "      <td>7.24548e+08</td>\n",
       "      <td>NONE</td>\n",
       "      <td>RETIRED</td>\n",
       "      <td>250.0</td>\n",
       "      <td>01-AUG-11</td>\n",
       "      <td>NaN</td>\n",
       "      <td>NaN</td>\n",
       "      <td>NaN</td>\n",
       "      <td>SA17A</td>\n",
       "      <td>749073</td>\n",
       "    </tr>\n",
       "    <tr>\n",
       "      <th>4</th>\n",
       "      <td>4</td>\n",
       "      <td>C00410118</td>\n",
       "      <td>P20002978</td>\n",
       "      <td>Bachmann, Michelle</td>\n",
       "      <td>WARDENBURG, HAROLD</td>\n",
       "      <td>HOT SPRINGS NATION</td>\n",
       "      <td>AR</td>\n",
       "      <td>7.19016e+08</td>\n",
       "      <td>NONE</td>\n",
       "      <td>RETIRED</td>\n",
       "      <td>300.0</td>\n",
       "      <td>20-JUN-11</td>\n",
       "      <td>NaN</td>\n",
       "      <td>NaN</td>\n",
       "      <td>NaN</td>\n",
       "      <td>SA17A</td>\n",
       "      <td>736166</td>\n",
       "    </tr>\n",
       "  </tbody>\n",
       "</table>\n",
       "</div>"
      ],
      "text/plain": [
       "   Unnamed: 0    cmte_id    cand_id             cand_nm           contbr_nm         contbr_city contbr_st   contbr_zip        contbr_employer      contbr_occupation  contb_receipt_amt contb_receipt_dt receipt_desc memo_cd memo_text form_tp  file_num\n",
       "0           0  C00410118  P20002978  Bachmann, Michelle     HARVEY, WILLIAM              MOBILE        AL   3.6601e+08                RETIRED                RETIRED              250.0        20-JUN-11          NaN     NaN       NaN   SA17A    736166\n",
       "1           1  C00410118  P20002978  Bachmann, Michelle     HARVEY, WILLIAM              MOBILE        AL   3.6601e+08                RETIRED                RETIRED               50.0        23-JUN-11          NaN     NaN       NaN   SA17A    736166\n",
       "2           2  C00410118  P20002978  Bachmann, Michelle       SMITH, LANIER              LANETT        AL  3.68633e+08  INFORMATION REQUESTED  INFORMATION REQUESTED              250.0        05-JUL-11          NaN     NaN       NaN   SA17A    749073\n",
       "3           3  C00410118  P20002978  Bachmann, Michelle    BLEVINS, DARONDA             PIGGOTT        AR  7.24548e+08                   NONE                RETIRED              250.0        01-AUG-11          NaN     NaN       NaN   SA17A    749073\n",
       "4           4  C00410118  P20002978  Bachmann, Michelle  WARDENBURG, HAROLD  HOT SPRINGS NATION        AR  7.19016e+08                   NONE                RETIRED              300.0        20-JUN-11          NaN     NaN       NaN   SA17A    736166"
      ]
     },
     "execution_count": 7,
     "metadata": {},
     "output_type": "execute_result"
    }
   ],
   "source": [
    "fec.head()"
   ]
  },
  {
   "cell_type": "code",
   "execution_count": 8,
   "metadata": {
    "collapsed": false
   },
   "outputs": [],
   "source": [
    "fec['party'] = fec.cand_nm.map(parties) #dict or function\n",
    "# equivalent\n",
    "# fec['parties'] = [parties[candidate] for candidate in fec.camd_nm]\n"
   ]
  },
  {
   "cell_type": "code",
   "execution_count": 15,
   "metadata": {
    "collapsed": false
   },
   "outputs": [
    {
     "data": {
      "text/plain": [
       "Democrat       292400\n",
       "Republican     237575\n",
       "Reform           5364\n",
       "Libertarian       702\n",
       "Name: party, dtype: int64"
      ]
     },
     "execution_count": 15,
     "metadata": {},
     "output_type": "execute_result"
    }
   ],
   "source": [
    "fec.party.value_counts()"
   ]
  },
  {
   "cell_type": "code",
   "execution_count": 17,
   "metadata": {
    "collapsed": false
   },
   "outputs": [
    {
     "data": {
      "text/plain": [
       "party\n",
       "Democrat       8.105758e+07\n",
       "Libertarian    4.132769e+05\n",
       "Reform         3.390338e+05\n",
       "Republican     1.192255e+08\n",
       "Name: contb_receipt_amt, dtype: float64"
      ]
     },
     "execution_count": 17,
     "metadata": {},
     "output_type": "execute_result"
    }
   ],
   "source": [
    "fec.groupby('party')['contb_receipt_amt'].sum()"
   ]
  },
  {
   "cell_type": "code",
   "execution_count": 19,
   "metadata": {
    "collapsed": false
   },
   "outputs": [
    {
     "data": {
      "text/plain": [
       "party       contb_receipt_dt\n",
       "Democrat    01-AUG-11            175281.00\n",
       "            01-DEC-11            651532.82\n",
       "            01-JAN-12             58098.80\n",
       "            01-JUL-11            165961.00\n",
       "            01-JUN-11            145459.00\n",
       "            01-MAY-11             82644.00\n",
       "            01-NOV-11            122529.87\n",
       "            01-OCT-11            148977.00\n",
       "            01-SEP-11            403297.62\n",
       "            02-AUG-11            164510.11\n",
       "                                   ...    \n",
       "Republican  30-OCT-11             43913.16\n",
       "            30-SEP-11           4886331.76\n",
       "            31-AUG-11           1017735.02\n",
       "            31-DEC-11           1094376.72\n",
       "            31-JAN-11              6000.00\n",
       "            31-JAN-12            869890.41\n",
       "            31-JUL-11             12781.02\n",
       "            31-MAR-11             62475.00\n",
       "            31-MAY-11            301339.80\n",
       "            31-OCT-11            734601.83\n",
       "Name: contb_receipt_amt, dtype: float64"
      ]
     },
     "execution_count": 19,
     "metadata": {},
     "output_type": "execute_result"
    }
   ],
   "source": [
    "fec.groupby(['party','contb_receipt_dt'])['contb_receipt_amt'].sum()"
   ]
  },
  {
   "cell_type": "code",
   "execution_count": 20,
   "metadata": {
    "collapsed": true
   },
   "outputs": [],
   "source": [
    "import datetime\n",
    "def convert_date(date_str):\n",
    "    d, m, y =date_str.split('-')\n",
    "    m= months[m]\n",
    "    return datetime.datetime(int('20' + y), m, int(d))"
   ]
  },
  {
   "cell_type": "code",
   "execution_count": 21,
   "metadata": {
    "collapsed": false
   },
   "outputs": [
    {
     "data": {
      "text/plain": [
       "datetime.datetime(2011, 1, 20, 0, 0)"
      ]
     },
     "execution_count": 21,
     "metadata": {},
     "output_type": "execute_result"
    }
   ],
   "source": [
    "convert_date('20-JAN-11')"
   ]
  },
  {
   "cell_type": "code",
   "execution_count": 25,
   "metadata": {
    "collapsed": false
   },
   "outputs": [
    {
     "data": {
      "text/plain": [
       "0        2011-06-20\n",
       "1        2011-06-23\n",
       "2        2011-07-05\n",
       "3        2011-08-01\n",
       "4        2011-06-20\n",
       "5        2011-06-23\n",
       "6        2011-06-21\n",
       "7        2011-07-05\n",
       "8        2011-06-21\n",
       "9        2011-06-20\n",
       "            ...    \n",
       "536031   2011-09-30\n",
       "536032   2011-08-26\n",
       "536033   2011-10-01\n",
       "536034   2011-09-30\n",
       "536035   2011-09-30\n",
       "536036   2011-08-31\n",
       "536037   2011-09-30\n",
       "536038   2011-09-29\n",
       "536039   2011-09-30\n",
       "536040   2011-09-29\n",
       "Name: date, dtype: datetime64[ns]"
      ]
     },
     "execution_count": 25,
     "metadata": {},
     "output_type": "execute_result"
    }
   ],
   "source": [
    "fec['date']=fec.contb_receipt_dt.map(convert_date)\n",
    "fec.date"
   ]
  },
  {
   "cell_type": "code",
   "execution_count": 28,
   "metadata": {
    "collapsed": false
   },
   "outputs": [],
   "source": [
    "by_date = fec.groupby(['party', 'contb_receipt_dt'])['contb_receipt_amt'].sum()"
   ]
  },
  {
   "cell_type": "code",
   "execution_count": 29,
   "metadata": {
    "collapsed": false,
    "scrolled": false
   },
   "outputs": [
    {
     "data": {
      "text/plain": [
       "<matplotlib.axes._subplots.AxesSubplot at 0x7fb04f77b750>"
      ]
     },
     "execution_count": 29,
     "metadata": {},
     "output_type": "execute_result"
    },
    {
     "data": {
      "image/png": "[encoded data removed]",
      "text/plain": [
       "<matplotlib.figure.Figure at 0x7fb04f840f50>"
      ]
     },
     "metadata": {},
     "output_type": "display_data"
    }
   ],
   "source": [
    "by_date.unstack('party') .cumsum().plot()"
   ]
  },
  {
   "cell_type": "code",
   "execution_count": 31,
   "metadata": {
    "collapsed": true
   },
   "outputs": [],
   "source": [
    "s = by_date.unstack('party')[-5:].stack()"
   ]
  },
  {
   "cell_type": "code",
   "execution_count": 32,
   "metadata": {
    "collapsed": false
   },
   "outputs": [
    {
     "data": {
      "text/plain": [
       "contb_receipt_dt  party      \n",
       "31-JAN-12         Democrat       1418410.31\n",
       "                  Reform             150.00\n",
       "                  Republican      869890.41\n",
       "31-JUL-11         Democrat         20305.00\n",
       "                  Reform             966.00\n",
       "                  Republican       12781.02\n",
       "31-MAR-11         Reform             200.00\n",
       "                  Republican       62475.00\n",
       "31-MAY-11         Democrat        351705.66\n",
       "                  Libertarian        250.00\n",
       "                  Reform             100.00\n",
       "                  Republican      301339.80\n",
       "31-OCT-11         Democrat        204996.87\n",
       "                  Libertarian       4250.00\n",
       "                  Reform            3105.00\n",
       "                  Republican      734601.83\n",
       "dtype: float64"
      ]
     },
     "execution_count": 32,
     "metadata": {},
     "output_type": "execute_result"
    }
   ],
   "source": [
    "s"
   ]
  },
  {
   "cell_type": "code",
   "execution_count": 33,
   "metadata": {
    "collapsed": true
   },
   "outputs": [],
   "source": [
    "df = s.unstack('party')"
   ]
  },
  {
   "cell_type": "code",
   "execution_count": 36,
   "metadata": {
    "collapsed": false
   },
   "outputs": [
    {
     "data": {
      "text/html": [
       "<div>\n",
       "<table border=\"1\" class=\"dataframe\">\n",
       "  <thead>\n",
       "    <tr style=\"text-align: right;\">\n",
       "      <th></th>\n",
       "      <th>party</th>\n",
       "      <th>Democrat</th>\n",
       "      <th>Libertarian</th>\n",
       "      <th>Reform</th>\n",
       "      <th>Republican</th>\n",
       "    </tr>\n",
       "    <tr>\n",
       "      <th></th>\n",
       "      <th>contb_receipt_dt</th>\n",
       "      <th></th>\n",
       "      <th></th>\n",
       "      <th></th>\n",
       "      <th></th>\n",
       "    </tr>\n",
       "  </thead>\n",
       "  <tbody>\n",
       "    <tr>\n",
       "      <th rowspan=\"5\" valign=\"top\">A</th>\n",
       "      <th>31-JAN-12</th>\n",
       "      <td>1418410.31</td>\n",
       "      <td>NaN</td>\n",
       "      <td>150.0</td>\n",
       "      <td>869890.41</td>\n",
       "    </tr>\n",
       "    <tr>\n",
       "      <th>31-JUL-11</th>\n",
       "      <td>20305.00</td>\n",
       "      <td>NaN</td>\n",
       "      <td>966.0</td>\n",
       "      <td>12781.02</td>\n",
       "    </tr>\n",
       "    <tr>\n",
       "      <th>31-MAR-11</th>\n",
       "      <td>NaN</td>\n",
       "      <td>NaN</td>\n",
       "      <td>200.0</td>\n",
       "      <td>62475.00</td>\n",
       "    </tr>\n",
       "    <tr>\n",
       "      <th>31-MAY-11</th>\n",
       "      <td>351705.66</td>\n",
       "      <td>250.0</td>\n",
       "      <td>100.0</td>\n",
       "      <td>301339.80</td>\n",
       "    </tr>\n",
       "    <tr>\n",
       "      <th>31-OCT-11</th>\n",
       "      <td>204996.87</td>\n",
       "      <td>4250.0</td>\n",
       "      <td>3105.0</td>\n",
       "      <td>734601.83</td>\n",
       "    </tr>\n",
       "    <tr>\n",
       "      <th rowspan=\"5\" valign=\"top\">B</th>\n",
       "      <th>31-JAN-12</th>\n",
       "      <td>1418410.31</td>\n",
       "      <td>NaN</td>\n",
       "      <td>150.0</td>\n",
       "      <td>869890.41</td>\n",
       "    </tr>\n",
       "    <tr>\n",
       "      <th>31-JUL-11</th>\n",
       "      <td>20305.00</td>\n",
       "      <td>NaN</td>\n",
       "      <td>966.0</td>\n",
       "      <td>12781.02</td>\n",
       "    </tr>\n",
       "    <tr>\n",
       "      <th>31-MAR-11</th>\n",
       "      <td>NaN</td>\n",
       "      <td>NaN</td>\n",
       "      <td>200.0</td>\n",
       "      <td>62475.00</td>\n",
       "    </tr>\n",
       "    <tr>\n",
       "      <th>31-MAY-11</th>\n",
       "      <td>351705.66</td>\n",
       "      <td>250.0</td>\n",
       "      <td>100.0</td>\n",
       "      <td>301339.80</td>\n",
       "    </tr>\n",
       "    <tr>\n",
       "      <th>31-OCT-11</th>\n",
       "      <td>204996.87</td>\n",
       "      <td>4250.0</td>\n",
       "      <td>3105.0</td>\n",
       "      <td>734601.83</td>\n",
       "    </tr>\n",
       "  </tbody>\n",
       "</table>\n",
       "</div>"
      ],
      "text/plain": [
       "party                 Democrat  Libertarian  Reform  Republican\n",
       "  contb_receipt_dt                                             \n",
       "A 31-JAN-12         1418410.31          NaN   150.0   869890.41\n",
       "  31-JUL-11           20305.00          NaN   966.0    12781.02\n",
       "  31-MAR-11                NaN          NaN   200.0    62475.00\n",
       "  31-MAY-11          351705.66        250.0   100.0   301339.80\n",
       "  31-OCT-11          204996.87       4250.0  3105.0   734601.83\n",
       "B 31-JAN-12         1418410.31          NaN   150.0   869890.41\n",
       "  31-JUL-11           20305.00          NaN   966.0    12781.02\n",
       "  31-MAR-11                NaN          NaN   200.0    62475.00\n",
       "  31-MAY-11          351705.66        250.0   100.0   301339.80\n",
       "  31-OCT-11          204996.87       4250.0  3105.0   734601.83"
      ]
     },
     "execution_count": 36,
     "metadata": {},
     "output_type": "execute_result"
    }
   ],
   "source": [
    "pd.concat([df, df], keys=['A', 'B'])"
   ]
  },
  {
   "cell_type": "code",
   "execution_count": 41,
   "metadata": {
    "collapsed": false
   },
   "outputs": [],
   "source": [
    "result = fec.groupby(['cand_nm', 'contbr_occupation']).sum()"
   ]
  },
  {
   "cell_type": "code",
   "execution_count": 42,
   "metadata": {
    "collapsed": false
   },
   "outputs": [
    {
     "data": {
      "text/html": [
       "<div>\n",
       "<table border=\"1\" class=\"dataframe\">\n",
       "  <thead>\n",
       "    <tr style=\"text-align: right;\">\n",
       "      <th></th>\n",
       "      <th>cand_nm</th>\n",
       "      <th>contbr_occupation</th>\n",
       "      <th>contb_receipt_amt</th>\n",
       "      <th>file_num</th>\n",
       "    </tr>\n",
       "  </thead>\n",
       "  <tbody>\n",
       "    <tr>\n",
       "      <th>0</th>\n",
       "      <td>Bachmann, Michelle</td>\n",
       "      <td>100% DISABLED VETERAN</td>\n",
       "      <td>1869.50</td>\n",
       "      <td>6807894</td>\n",
       "    </tr>\n",
       "    <tr>\n",
       "      <th>1</th>\n",
       "      <td>Bachmann, Michelle</td>\n",
       "      <td>100% DISABLED VIETNAM VETERAN</td>\n",
       "      <td>236.25</td>\n",
       "      <td>2260398</td>\n",
       "    </tr>\n",
       "    <tr>\n",
       "      <th>2</th>\n",
       "      <td>Bachmann, Michelle</td>\n",
       "      <td>A/C AND HEAT</td>\n",
       "      <td>250.00</td>\n",
       "      <td>749016</td>\n",
       "    </tr>\n",
       "    <tr>\n",
       "      <th>3</th>\n",
       "      <td>Bachmann, Michelle</td>\n",
       "      <td>ACADEMIC EMPLOYMENT SPECIALIST</td>\n",
       "      <td>25.00</td>\n",
       "      <td>762366</td>\n",
       "    </tr>\n",
       "    <tr>\n",
       "      <th>4</th>\n",
       "      <td>Bachmann, Michelle</td>\n",
       "      <td>ACCOUNT</td>\n",
       "      <td>50.00</td>\n",
       "      <td>762366</td>\n",
       "    </tr>\n",
       "    <tr>\n",
       "      <th>5</th>\n",
       "      <td>Bachmann, Michelle</td>\n",
       "      <td>ACCOUNT ANALYST</td>\n",
       "      <td>200.00</td>\n",
       "      <td>749016</td>\n",
       "    </tr>\n",
       "    <tr>\n",
       "      <th>6</th>\n",
       "      <td>Bachmann, Michelle</td>\n",
       "      <td>ACCOUNT EXECUTIVE</td>\n",
       "      <td>100.00</td>\n",
       "      <td>762366</td>\n",
       "    </tr>\n",
       "    <tr>\n",
       "      <th>7</th>\n",
       "      <td>Bachmann, Michelle</td>\n",
       "      <td>ACCOUNT MANAGER</td>\n",
       "      <td>230.00</td>\n",
       "      <td>1524732</td>\n",
       "    </tr>\n",
       "    <tr>\n",
       "      <th>8</th>\n",
       "      <td>Bachmann, Michelle</td>\n",
       "      <td>ACCOUNTANT</td>\n",
       "      <td>12979.00</td>\n",
       "      <td>49048913</td>\n",
       "    </tr>\n",
       "    <tr>\n",
       "      <th>9</th>\n",
       "      <td>Bachmann, Michelle</td>\n",
       "      <td>ACCOUNTANT TRAINER</td>\n",
       "      <td>250.00</td>\n",
       "      <td>736307</td>\n",
       "    </tr>\n",
       "    <tr>\n",
       "      <th>...</th>\n",
       "      <td>...</td>\n",
       "      <td>...</td>\n",
       "      <td>...</td>\n",
       "      <td>...</td>\n",
       "    </tr>\n",
       "    <tr>\n",
       "      <th>40151</th>\n",
       "      <td>Santorum, Rick</td>\n",
       "      <td>WITHHELD</td>\n",
       "      <td>1000.00</td>\n",
       "      <td>763255</td>\n",
       "    </tr>\n",
       "    <tr>\n",
       "      <th>40152</th>\n",
       "      <td>Santorum, Rick</td>\n",
       "      <td>WNG</td>\n",
       "      <td>700.00</td>\n",
       "      <td>2301387</td>\n",
       "    </tr>\n",
       "    <tr>\n",
       "      <th>40153</th>\n",
       "      <td>Santorum, Rick</td>\n",
       "      <td>WORKER II</td>\n",
       "      <td>300.00</td>\n",
       "      <td>767129</td>\n",
       "    </tr>\n",
       "    <tr>\n",
       "      <th>40154</th>\n",
       "      <td>Santorum, Rick</td>\n",
       "      <td>WRITER</td>\n",
       "      <td>4894.55</td>\n",
       "      <td>36771830</td>\n",
       "    </tr>\n",
       "    <tr>\n",
       "      <th>40155</th>\n",
       "      <td>Santorum, Rick</td>\n",
       "      <td>WRITER ACTIVIST</td>\n",
       "      <td>1112.00</td>\n",
       "      <td>1534258</td>\n",
       "    </tr>\n",
       "    <tr>\n",
       "      <th>40156</th>\n",
       "      <td>Santorum, Rick</td>\n",
       "      <td>WRITER EDITOR</td>\n",
       "      <td>250.00</td>\n",
       "      <td>2301387</td>\n",
       "    </tr>\n",
       "    <tr>\n",
       "      <th>40157</th>\n",
       "      <td>Santorum, Rick</td>\n",
       "      <td>WRITER/ACCOUNT EXEC</td>\n",
       "      <td>500.00</td>\n",
       "      <td>763229</td>\n",
       "    </tr>\n",
       "    <tr>\n",
       "      <th>40158</th>\n",
       "      <td>Santorum, Rick</td>\n",
       "      <td>WRITER/JOURNALIST</td>\n",
       "      <td>250.00</td>\n",
       "      <td>767129</td>\n",
       "    </tr>\n",
       "    <tr>\n",
       "      <th>40159</th>\n",
       "      <td>Santorum, Rick</td>\n",
       "      <td>WRITER/LAWYER</td>\n",
       "      <td>300.00</td>\n",
       "      <td>767129</td>\n",
       "    </tr>\n",
       "    <tr>\n",
       "      <th>40160</th>\n",
       "      <td>Santorum, Rick</td>\n",
       "      <td>YOUTH MINISTER</td>\n",
       "      <td>250.00</td>\n",
       "      <td>767129</td>\n",
       "    </tr>\n",
       "  </tbody>\n",
       "</table>\n",
       "<p>40161 rows × 4 columns</p>\n",
       "</div>"
      ],
      "text/plain": [
       "                  cand_nm               contbr_occupation  contb_receipt_amt  file_num\n",
       "0      Bachmann, Michelle           100% DISABLED VETERAN            1869.50   6807894\n",
       "1      Bachmann, Michelle   100% DISABLED VIETNAM VETERAN             236.25   2260398\n",
       "2      Bachmann, Michelle                    A/C AND HEAT             250.00    749016\n",
       "3      Bachmann, Michelle  ACADEMIC EMPLOYMENT SPECIALIST              25.00    762366\n",
       "4      Bachmann, Michelle                         ACCOUNT              50.00    762366\n",
       "5      Bachmann, Michelle                 ACCOUNT ANALYST             200.00    749016\n",
       "6      Bachmann, Michelle               ACCOUNT EXECUTIVE             100.00    762366\n",
       "7      Bachmann, Michelle                 ACCOUNT MANAGER             230.00   1524732\n",
       "8      Bachmann, Michelle                      ACCOUNTANT           12979.00  49048913\n",
       "9      Bachmann, Michelle              ACCOUNTANT TRAINER             250.00    736307\n",
       "...                   ...                             ...                ...       ...\n",
       "40151      Santorum, Rick                        WITHHELD            1000.00    763255\n",
       "40152      Santorum, Rick                             WNG             700.00   2301387\n",
       "40153      Santorum, Rick                       WORKER II             300.00    767129\n",
       "40154      Santorum, Rick                          WRITER            4894.55  36771830\n",
       "40155      Santorum, Rick                 WRITER ACTIVIST            1112.00   1534258\n",
       "40156      Santorum, Rick                   WRITER EDITOR             250.00   2301387\n",
       "40157      Santorum, Rick             WRITER/ACCOUNT EXEC             500.00    763229\n",
       "40158      Santorum, Rick               WRITER/JOURNALIST             250.00    767129\n",
       "40159      Santorum, Rick                   WRITER/LAWYER             300.00    767129\n",
       "40160      Santorum, Rick                  YOUTH MINISTER             250.00    767129\n",
       "\n",
       "[40161 rows x 4 columns]"
      ]
     },
     "execution_count": 42,
     "metadata": {},
     "output_type": "execute_result"
    }
   ],
   "source": [
    "result = result.reset_index()\n",
    "result"
   ]
  },
  {
   "cell_type": "code",
   "execution_count": 46,
   "metadata": {
    "collapsed": false
   },
   "outputs": [
    {
     "data": {
      "text/html": [
       "<div>\n",
       "<table border=\"1\" class=\"dataframe\">\n",
       "  <thead>\n",
       "    <tr style=\"text-align: right;\">\n",
       "      <th></th>\n",
       "      <th></th>\n",
       "      <th>cand_nm</th>\n",
       "      <th>contbr_occupation</th>\n",
       "      <th>contb_receipt_amt</th>\n",
       "      <th>file_num</th>\n",
       "    </tr>\n",
       "    <tr>\n",
       "      <th>cand_nm</th>\n",
       "      <th></th>\n",
       "      <th></th>\n",
       "      <th></th>\n",
       "      <th></th>\n",
       "      <th></th>\n",
       "    </tr>\n",
       "  </thead>\n",
       "  <tbody>\n",
       "    <tr>\n",
       "      <th rowspan=\"5\" valign=\"top\">Bachmann, Michelle</th>\n",
       "      <th>920</th>\n",
       "      <td>Bachmann, Michelle</td>\n",
       "      <td>PRESIDENT</td>\n",
       "      <td>68781.00</td>\n",
       "      <td>95289630</td>\n",
       "    </tr>\n",
       "    <tr>\n",
       "      <th>892</th>\n",
       "      <td>Bachmann, Michelle</td>\n",
       "      <td>PHYSICIAN</td>\n",
       "      <td>76134.00</td>\n",
       "      <td>198136204</td>\n",
       "    </tr>\n",
       "    <tr>\n",
       "      <th>555</th>\n",
       "      <td>Bachmann, Michelle</td>\n",
       "      <td>HOMEMAKER</td>\n",
       "      <td>102540.00</td>\n",
       "      <td>237509004</td>\n",
       "    </tr>\n",
       "    <tr>\n",
       "      <th>594</th>\n",
       "      <td>Bachmann, Michelle</td>\n",
       "      <td>INFORMATION REQUESTED</td>\n",
       "      <td>147638.89</td>\n",
       "      <td>835457555</td>\n",
       "    </tr>\n",
       "    <tr>\n",
       "      <th>1058</th>\n",
       "      <td>Bachmann, Michelle</td>\n",
       "      <td>RETIRED</td>\n",
       "      <td>824618.05</td>\n",
       "      <td>3260564234</td>\n",
       "    </tr>\n",
       "    <tr>\n",
       "      <th rowspan=\"5\" valign=\"top\">Cain, Herman</th>\n",
       "      <th>1536</th>\n",
       "      <td>Cain, Herman</td>\n",
       "      <td>CEO</td>\n",
       "      <td>125097.00</td>\n",
       "      <td>107909571</td>\n",
       "    </tr>\n",
       "    <tr>\n",
       "      <th>2225</th>\n",
       "      <td>Cain, Herman</td>\n",
       "      <td>PHYSICIAN</td>\n",
       "      <td>125790.96</td>\n",
       "      <td>284576449</td>\n",
       "    </tr>\n",
       "    <tr>\n",
       "      <th>1897</th>\n",
       "      <td>Cain, Herman</td>\n",
       "      <td>HOMEMAKER</td>\n",
       "      <td>153964.07</td>\n",
       "      <td>238089492</td>\n",
       "    </tr>\n",
       "    <tr>\n",
       "      <th>2389</th>\n",
       "      <td>Cain, Herman</td>\n",
       "      <td>RETIRED</td>\n",
       "      <td>779635.51</td>\n",
       "      <td>2085568644</td>\n",
       "    </tr>\n",
       "    <tr>\n",
       "      <th>1928</th>\n",
       "      <td>Cain, Herman</td>\n",
       "      <td>INFORMATION REQUESTED</td>\n",
       "      <td>3838719.32</td>\n",
       "      <td>6878659745</td>\n",
       "    </tr>\n",
       "    <tr>\n",
       "      <th>...</th>\n",
       "      <th>...</th>\n",
       "      <td>...</td>\n",
       "      <td>...</td>\n",
       "      <td>...</td>\n",
       "      <td>...</td>\n",
       "    </tr>\n",
       "    <tr>\n",
       "      <th rowspan=\"5\" valign=\"top\">Romney, Mitt</th>\n",
       "      <th>37406</th>\n",
       "      <td>Romney, Mitt</td>\n",
       "      <td>PRESIDENT</td>\n",
       "      <td>1522751.99</td>\n",
       "      <td>837485967</td>\n",
       "    </tr>\n",
       "    <tr>\n",
       "      <th>34625</th>\n",
       "      <td>Romney, Mitt</td>\n",
       "      <td>ATTORNEY</td>\n",
       "      <td>3662610.21</td>\n",
       "      <td>2701032161</td>\n",
       "    </tr>\n",
       "    <tr>\n",
       "      <th>36317</th>\n",
       "      <td>Romney, Mitt</td>\n",
       "      <td>HOMEMAKER</td>\n",
       "      <td>5442013.48</td>\n",
       "      <td>3071313520</td>\n",
       "    </tr>\n",
       "    <tr>\n",
       "      <th>36411</th>\n",
       "      <td>Romney, Mitt</td>\n",
       "      <td>INFORMATION REQUESTED PER BEST EFFORTS</td>\n",
       "      <td>6394753.06</td>\n",
       "      <td>5099292740</td>\n",
       "    </tr>\n",
       "    <tr>\n",
       "      <th>37910</th>\n",
       "      <td>Romney, Mitt</td>\n",
       "      <td>RETIRED</td>\n",
       "      <td>6483596.24</td>\n",
       "      <td>9766405414</td>\n",
       "    </tr>\n",
       "    <tr>\n",
       "      <th rowspan=\"5\" valign=\"top\">Santorum, Rick</th>\n",
       "      <th>38856</th>\n",
       "      <td>Santorum, Rick</td>\n",
       "      <td>ATTORNEY</td>\n",
       "      <td>107130.00</td>\n",
       "      <td>189114568</td>\n",
       "    </tr>\n",
       "    <tr>\n",
       "      <th>39180</th>\n",
       "      <td>Santorum, Rick</td>\n",
       "      <td>EXECUTIVE</td>\n",
       "      <td>131456.55</td>\n",
       "      <td>106279150</td>\n",
       "    </tr>\n",
       "    <tr>\n",
       "      <th>39341</th>\n",
       "      <td>Santorum, Rick</td>\n",
       "      <td>INFORMATION REQUESTED (BEST EFFORTS)</td>\n",
       "      <td>284718.10</td>\n",
       "      <td>502656827</td>\n",
       "    </tr>\n",
       "    <tr>\n",
       "      <th>39305</th>\n",
       "      <td>Santorum, Rick</td>\n",
       "      <td>HOMEMAKER</td>\n",
       "      <td>350597.75</td>\n",
       "      <td>502312893</td>\n",
       "    </tr>\n",
       "    <tr>\n",
       "      <th>39812</th>\n",
       "      <td>Santorum, Rick</td>\n",
       "      <td>RETIRED</td>\n",
       "      <td>421952.98</td>\n",
       "      <td>1341605527</td>\n",
       "    </tr>\n",
       "  </tbody>\n",
       "</table>\n",
       "<p>65 rows × 4 columns</p>\n",
       "</div>"
      ],
      "text/plain": [
       "                                     cand_nm                       contbr_occupation  contb_receipt_amt    file_num\n",
       "cand_nm                                                                                                            \n",
       "Bachmann, Michelle 920    Bachmann, Michelle                               PRESIDENT           68781.00    95289630\n",
       "                   892    Bachmann, Michelle                               PHYSICIAN           76134.00   198136204\n",
       "                   555    Bachmann, Michelle                               HOMEMAKER          102540.00   237509004\n",
       "                   594    Bachmann, Michelle                   INFORMATION REQUESTED          147638.89   835457555\n",
       "                   1058   Bachmann, Michelle                                 RETIRED          824618.05  3260564234\n",
       "Cain, Herman       1536         Cain, Herman                                     CEO          125097.00   107909571\n",
       "                   2225         Cain, Herman                               PHYSICIAN          125790.96   284576449\n",
       "                   1897         Cain, Herman                               HOMEMAKER          153964.07   238089492\n",
       "                   2389         Cain, Herman                                 RETIRED          779635.51  2085568644\n",
       "                   1928         Cain, Herman                   INFORMATION REQUESTED         3838719.32  6878659745\n",
       "...                                      ...                                     ...                ...         ...\n",
       "Romney, Mitt       37406        Romney, Mitt                               PRESIDENT         1522751.99   837485967\n",
       "                   34625        Romney, Mitt                                ATTORNEY         3662610.21  2701032161\n",
       "                   36317        Romney, Mitt                               HOMEMAKER         5442013.48  3071313520\n",
       "                   36411        Romney, Mitt  INFORMATION REQUESTED PER BEST EFFORTS         6394753.06  5099292740\n",
       "                   37910        Romney, Mitt                                 RETIRED         6483596.24  9766405414\n",
       "Santorum, Rick     38856      Santorum, Rick                                ATTORNEY          107130.00   189114568\n",
       "                   39180      Santorum, Rick                               EXECUTIVE          131456.55   106279150\n",
       "                   39341      Santorum, Rick    INFORMATION REQUESTED (BEST EFFORTS)          284718.10   502656827\n",
       "                   39305      Santorum, Rick                               HOMEMAKER          350597.75   502312893\n",
       "                   39812      Santorum, Rick                                 RETIRED          421952.98  1341605527\n",
       "\n",
       "[65 rows x 4 columns]"
      ]
     },
     "execution_count": 46,
     "metadata": {},
     "output_type": "execute_result"
    }
   ],
   "source": [
    "def top5_donors(group):\n",
    "    return group.sort_values(by='contb_receipt_amt')[-5:]\n",
    "result.groupby('cand_nm').apply(top5_donors)"
   ]
  },
  {
   "cell_type": "code",
   "execution_count": 49,
   "metadata": {
    "collapsed": false
   },
   "outputs": [
    {
     "data": {
      "text/plain": [
       "cand_nm                  \n",
       "Bachmann, Michelle  920                                   PRESIDENT\n",
       "                    892                                   PHYSICIAN\n",
       "                    555                                   HOMEMAKER\n",
       "                    594                       INFORMATION REQUESTED\n",
       "                    1058                                    RETIRED\n",
       "Cain, Herman        1536                                        CEO\n",
       "                    2225                                  PHYSICIAN\n",
       "                    1897                                  HOMEMAKER\n",
       "                    2389                                    RETIRED\n",
       "                    1928                      INFORMATION REQUESTED\n",
       "                                              ...                  \n",
       "Romney, Mitt        37406                                 PRESIDENT\n",
       "                    34625                                  ATTORNEY\n",
       "                    36317                                 HOMEMAKER\n",
       "                    36411    INFORMATION REQUESTED PER BEST EFFORTS\n",
       "                    37910                                   RETIRED\n",
       "Santorum, Rick      38856                                  ATTORNEY\n",
       "                    39180                                 EXECUTIVE\n",
       "                    39341      INFORMATION REQUESTED (BEST EFFORTS)\n",
       "                    39305                                 HOMEMAKER\n",
       "                    39812                                   RETIRED\n",
       "Name: contbr_occupation, dtype: object"
      ]
     },
     "execution_count": 49,
     "metadata": {},
     "output_type": "execute_result"
    }
   ],
   "source": [
    "result.groupby('cand_nm').apply(top5_donors).contbr_occupation"
   ]
  }
 ],
 "metadata": {
  "kernelspec": {
   "display_name": "Python [Root]",
   "language": "python",
   "name": "Python [Root]"
  },
  "language_info": {
   "codemirror_mode": {
    "name": "ipython",
    "version": 2
   },
   "file_extension": ".py",
   "mimetype": "text/x-python",
   "name": "python",
   "nbconvert_exporter": "python",
   "pygments_lexer": "ipython2",
   "version": "2.7.12"
  }
 },
 "nbformat": 4,
 "nbformat_minor": 0
}
